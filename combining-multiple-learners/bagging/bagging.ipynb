{
  "nbformat": 4,
  "nbformat_minor": 0,
  "metadata": {
    "colab": {
      "name": "HW6-1.ipynb",
      "provenance": []
    },
    "kernelspec": {
      "name": "python3",
      "display_name": "Python 3"
    },
    "language_info": {
      "name": "python"
    }
  },
  "cells": [
    {
      "cell_type": "code",
      "metadata": {
        "colab": {
          "base_uri": "https://localhost:8080/"
        },
        "id": "Yw4UPy7vTBY2",
        "outputId": "36392f13-4e67-4608-de6f-2bbd72e3fae0"
      },
      "source": [
        "import pandas as pd\n",
        "from sklearn.tree import DecisionTreeClassifier\n",
        "from sklearn.ensemble import BaggingClassifier\n",
        "\n",
        "#get the datasets from local and save them as dataframes\n",
        "url_train = 'wine.data'\n",
        "dataframe_train = (pd.read_csv(url_train, header=None))\n",
        "url_test = 'wine.test'\n",
        "dataframe_test = (pd.read_csv(url_test, header=None))\n",
        "\n",
        "train_y = dataframe_train[0]    #train_y and test_y are the classes\n",
        "test_y = dataframe_test[0]\n",
        "train_x = dataframe_train.drop(dataframe_train.columns[[0]], axis=1)    #train_x and test_x are the rest of the data\n",
        "test_x = dataframe_test.drop(dataframe_test.columns[[0]], axis=1)\n",
        "\n",
        "dtc = DecisionTreeClassifier(random_state=0)    #decision trees as base learner\n",
        "bag = BaggingClassifier(base_estimator=dtc, n_estimators=10, random_state=0).fit(train_x, train_y)      #bagging\n",
        "\n",
        "accuracy = bag.score(test_x, test_y)        #use the model to predict test data\n",
        "print(\"Accuracy: \", accuracy)     #print accuracy"
      ],
      "execution_count": 3,
      "outputs": [
        {
          "output_type": "stream",
          "text": [
            "Accuracy:  1.0\n"
          ],
          "name": "stdout"
        }
      ]
    }
  ]
}