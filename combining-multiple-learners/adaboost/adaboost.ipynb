{
  "nbformat": 4,
  "nbformat_minor": 0,
  "metadata": {
    "colab": {
      "name": "1062998.ipynb",
      "provenance": []
    },
    "kernelspec": {
      "name": "python3",
      "display_name": "Python 3"
    },
    "language_info": {
      "name": "python"
    }
  },
  "cells": [
    {
      "cell_type": "code",
      "metadata": {
        "colab": {
          "base_uri": "https://localhost:8080/"
        },
        "id": "HO6TjpikUAsB",
        "outputId": "af89d3a7-d020-4bd4-9303-d4d790efc571"
      },
      "source": [
        "import pandas as pd\n",
        "from sklearn.tree import DecisionTreeClassifier\n",
        "from sklearn.ensemble import AdaBoostClassifier\n",
        "\n",
        "#get the datasets from local and save them as dataframes\n",
        "url_train = 'wine.data'\n",
        "dataframe_train = (pd.read_csv(url_train, header=None))\n",
        "url_test = 'wine.test'\n",
        "dataframe_test = (pd.read_csv(url_test, header=None))\n",
        "\n",
        "train_y = dataframe_train[0]    #train_y and test_y are the classes\n",
        "test_y = dataframe_test[0]\n",
        "train_x = dataframe_train.drop(dataframe_train.columns[[0]], axis=1)    #train_x and test_x are the rest of the data\n",
        "test_x = dataframe_test.drop(dataframe_test.columns[[0]], axis=1)\n",
        "\n",
        "dtc = DecisionTreeClassifier(random_state=0)    #decision trees as base learner\n",
        "ada = AdaBoostClassifier(base_estimator=dtc, n_estimators=10, random_state=0).fit(train_x, train_y)      #adaboost\n",
        "\n",
        "accuracy = ada.score(test_x, test_y)        #use the model to predict test data\n",
        "print(\"Accuracy: \", accuracy)     #print accuracy"
      ],
      "execution_count": 2,
      "outputs": [
        {
          "output_type": "stream",
          "text": [
            "Accuracy:  0.85\n"
          ],
          "name": "stdout"
        }
      ]
    }
  ]
}